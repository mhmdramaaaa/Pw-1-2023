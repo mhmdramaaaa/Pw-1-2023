{
  "nbformat": 4,
  "nbformat_minor": 0,
  "metadata": {
    "colab": {
      "provenance": [],
      "authorship_tag": "ABX9TyNLIE6Tu6eeGJ45Iv2tnsQI",
      "include_colab_link": true
    },
    "kernelspec": {
      "name": "python3",
      "display_name": "Python 3"
    },
    "language_info": {
      "name": "python"
    }
  },
  "cells": [
    {
      "cell_type": "markdown",
      "metadata": {
        "id": "view-in-github",
        "colab_type": "text"
      },
      "source": [
        "<a href=\"https://colab.research.google.com/github/mhmdramaaaa/Pw-1-2023/blob/main/Untitled8.ipynb\" target=\"_parent\"><img src=\"https://colab.research.google.com/assets/colab-badge.svg\" alt=\"Open In Colab\"/></a>"
      ]
    },
    {
      "cell_type": "code",
      "execution_count": 1,
      "metadata": {
        "colab": {
          "base_uri": "https://localhost:8080/"
        },
        "id": "_jKqv4PR24hw",
        "outputId": "bccab69a-10df-4628-d536-063f686bad7f"
      },
      "outputs": [
        {
          "output_type": "stream",
          "name": "stdout",
          "text": [
            "1 + 3 + 5 + 7 + 9 + 11 + 13 + 15 + 17 + 19 = 100\n"
          ]
        }
      ],
      "source": [
        "total = 0\n",
        "for i in range(1, 20, 2):\n",
        "    total += i\n",
        "\n",
        "print(\"1 + 3 + 5 + 7 + 9 + 11 + 13 + 15 + 17 + 19 =\", total)"
      ]
    }
  ]
}